{
 "cells": [
  {
   "cell_type": "code",
   "execution_count": 3,
   "id": "8acc4f95-daec-4582-bdfe-edb3e4ccf6c0",
   "metadata": {},
   "outputs": [
    {
     "name": "stdin",
     "output_type": "stream",
     "text": [
      "Enter the age of the person: 1\n"
     ]
    }
   ],
   "source": [
    "age=int(input(\"Enter the age of the person:\"))\n",
    "if age>=18:\n",
    "    print(\"eligible to vote\")\n",
    "else:\n",
    "    print(\"not eligible to vote\")"
   ]
  },
  {
   "cell_type": "code",
   "execution_count": 41,
   "id": "46c26782-035f-4929-961f-6ecfa25abc5d",
   "metadata": {},
   "outputs": [
    {
     "name": "stdin",
     "output_type": "stream",
     "text": [
      "press any key: 5\n"
     ]
    },
    {
     "name": "stdout",
     "output_type": "stream",
     "text": [
      "5 is a digit\n"
     ]
    }
   ],
   "source": [
    "char=input(\"press any key:\")\n",
    "if char.isalpha():\n",
    "    print(char,\"is a character\")\n",
    "if char.isdigit():\n",
    "    print(char,\"is a digit\")\n",
    "if char.isspace():\n",
    "    print(char,\"is a space\")"
   ]
  },
  {
   "cell_type": "code",
   "execution_count": 19,
   "id": "ef034e08-cc65-406b-bb33-cbfa53cda119",
   "metadata": {},
   "outputs": [
    {
     "name": "stdin",
     "output_type": "stream",
     "text": [
      "enter a number: 0\n"
     ]
    },
    {
     "name": "stdout",
     "output_type": "stream",
     "text": [
      "0 is a zero\n"
     ]
    }
   ],
   "source": [
    "num=int(input(\"enter a number:\"))\n",
    "if num>0:\n",
    "    print(num,\"is a positive\")\n",
    "if num<0:\n",
    "    print(num,\"is a negative\")\n",
    "if num==0:\n",
    "    print(num,\"is a zero\")"
   ]
  },
  {
   "cell_type": "code",
   "execution_count": 31,
   "id": "ef4098f4-752c-4bc7-bc5c-814671e5e1e2",
   "metadata": {},
   "outputs": [
    {
     "name": "stdin",
     "output_type": "stream",
     "text": [
      "enter any number: 254858477\n"
     ]
    },
    {
     "name": "stdout",
     "output_type": "stream",
     "text": [
      "254858477 odd\n"
     ]
    }
   ],
   "source": [
    "num=int(input(\"enter any number:\"))\n",
    "if num%2==0:\n",
    "    print(num,\"even\")\n",
    "if num%2!=0:\n",
    "    print(num,\"odd\")"
   ]
  },
  {
   "cell_type": "code",
   "execution_count": 49,
   "id": "8095fe97-ac9f-439c-8431-3829cabcda9e",
   "metadata": {},
   "outputs": [
    {
     "name": "stdin",
     "output_type": "stream",
     "text": [
      "enter a character from a to z gghj\n"
     ]
    },
    {
     "name": "stdout",
     "output_type": "stream",
     "text": [
      "the entered character was in lowercase...upper:GGHJ\n"
     ]
    }
   ],
   "source": [
    "ch=input(\"enter a character from a to z\")\n",
    "if ch>='A' and ch<='Z':\n",
    "    ch=ch.lower()\n",
    "    print(\"the entered character was in uppercase..lower:\"+ch)\n",
    "else:\n",
    "    ch=ch.upper()\n",
    "    print(\"the entered character was in lowercase...upper:\" +ch)"
   ]
  },
  {
   "cell_type": "code",
   "execution_count": null,
   "id": "da858470-d7da-449b-aeef-e425376528f4",
   "metadata": {},
   "outputs": [],
   "source": []
  }
 ],
 "metadata": {
  "kernelspec": {
   "display_name": "Python 3 (ipykernel)",
   "language": "python",
   "name": "python3"
  },
  "language_info": {
   "codemirror_mode": {
    "name": "ipython",
    "version": 3
   },
   "file_extension": ".py",
   "mimetype": "text/x-python",
   "name": "python",
   "nbconvert_exporter": "python",
   "pygments_lexer": "ipython3",
   "version": "3.12.7"
  }
 },
 "nbformat": 4,
 "nbformat_minor": 5
}
